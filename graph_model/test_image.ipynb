{
 "cells": [
  {
   "cell_type": "markdown",
   "id": "6fee6bf8",
   "metadata": {},
   "source": [
    "### IN THIS NOTEBOOK I WILL SHOW YOU HOW TO MAKE PREDICTION BASED ON A SINGLE IMAGE"
   ]
  },
  {
   "cell_type": "markdown",
   "id": "4ea49b37",
   "metadata": {},
   "source": [
    "**IMPORT MODULES**"
   ]
  },
  {
   "cell_type": "code",
   "execution_count": 1,
   "id": "0747e208",
   "metadata": {},
   "outputs": [],
   "source": [
    "from torchvision import transforms\n",
    "from load_dataset.artgraph import ArtGraph\n",
    "import torch_geometric.transforms as T\n",
    "import numpy as np\n",
    "import pandas as pd\n",
    "from sklearn.model_selection import train_test_split\n",
    "from sklearn.preprocessing import OneHotEncoder\n",
    "import copy\n",
    "import torch\n",
    "from torch_geometric.nn import HeteroConv, GATConv\n",
    "from torch.nn import Linear\n",
    "import torch.nn.functional as F\n",
    "from torch import nn\n",
    "import os\n",
    "import torch.optim as optim\n",
    "from torch.optim import lr_scheduler\n",
    "from tqdm import tqdm\n",
    "from torch.utils.data import DataLoader\n",
    "from model import ModelClassification\n",
    "\n",
    "import random\n",
    "from PIL import Image\n",
    "import pickle\n",
    "\n",
    "import matplotlib.pyplot as plt\n",
    "%matplotlib inline"
   ]
  },
  {
   "cell_type": "markdown",
   "id": "7473e6b8",
   "metadata": {},
   "source": [
    "**SET HERE YOUR SEED AND THE DEVICE**"
   ]
  },
  {
   "cell_type": "code",
   "execution_count": 2,
   "id": "71389031",
   "metadata": {},
   "outputs": [],
   "source": [
    "from torch_geometric.seed import seed_everything\n",
    "seed_everything(44)\n",
    "device = torch.device('cuda' if torch.cuda.is_available() else 'cpu')"
   ]
  },
  {
   "cell_type": "markdown",
   "id": "281ded80",
   "metadata": {},
   "source": [
    "**LOADING THE FEATURE EXTRACTOR**"
   ]
  },
  {
   "cell_type": "code",
   "execution_count": 3,
   "id": "7db12c0c",
   "metadata": {},
   "outputs": [
    {
     "data": {
      "text/plain": [
       "VisionTransformer(\n",
       "  (patch_embed): PatchEmbed(\n",
       "    (proj): Conv2d(3, 768, kernel_size=(16, 16), stride=(16, 16))\n",
       "    (norm): Identity()\n",
       "  )\n",
       "  (pos_drop): Dropout(p=0.0, inplace=False)\n",
       "  (blocks): Sequential(\n",
       "    (0): Block(\n",
       "      (norm1): LayerNorm((768,), eps=1e-06, elementwise_affine=True)\n",
       "      (attn): Attention(\n",
       "        (qkv): Linear(in_features=768, out_features=2304, bias=True)\n",
       "        (attn_drop): Dropout(p=0.0, inplace=False)\n",
       "        (proj): Linear(in_features=768, out_features=768, bias=True)\n",
       "        (proj_drop): Dropout(p=0.0, inplace=False)\n",
       "      )\n",
       "      (ls1): Identity()\n",
       "      (drop_path1): Identity()\n",
       "      (norm2): LayerNorm((768,), eps=1e-06, elementwise_affine=True)\n",
       "      (mlp): Mlp(\n",
       "        (fc1): Linear(in_features=768, out_features=3072, bias=True)\n",
       "        (act): GELU()\n",
       "        (drop1): Dropout(p=0.0, inplace=False)\n",
       "        (fc2): Linear(in_features=3072, out_features=768, bias=True)\n",
       "        (drop2): Dropout(p=0.0, inplace=False)\n",
       "      )\n",
       "      (ls2): Identity()\n",
       "      (drop_path2): Identity()\n",
       "    )\n",
       "    (1): Block(\n",
       "      (norm1): LayerNorm((768,), eps=1e-06, elementwise_affine=True)\n",
       "      (attn): Attention(\n",
       "        (qkv): Linear(in_features=768, out_features=2304, bias=True)\n",
       "        (attn_drop): Dropout(p=0.0, inplace=False)\n",
       "        (proj): Linear(in_features=768, out_features=768, bias=True)\n",
       "        (proj_drop): Dropout(p=0.0, inplace=False)\n",
       "      )\n",
       "      (ls1): Identity()\n",
       "      (drop_path1): Identity()\n",
       "      (norm2): LayerNorm((768,), eps=1e-06, elementwise_affine=True)\n",
       "      (mlp): Mlp(\n",
       "        (fc1): Linear(in_features=768, out_features=3072, bias=True)\n",
       "        (act): GELU()\n",
       "        (drop1): Dropout(p=0.0, inplace=False)\n",
       "        (fc2): Linear(in_features=3072, out_features=768, bias=True)\n",
       "        (drop2): Dropout(p=0.0, inplace=False)\n",
       "      )\n",
       "      (ls2): Identity()\n",
       "      (drop_path2): Identity()\n",
       "    )\n",
       "    (2): Block(\n",
       "      (norm1): LayerNorm((768,), eps=1e-06, elementwise_affine=True)\n",
       "      (attn): Attention(\n",
       "        (qkv): Linear(in_features=768, out_features=2304, bias=True)\n",
       "        (attn_drop): Dropout(p=0.0, inplace=False)\n",
       "        (proj): Linear(in_features=768, out_features=768, bias=True)\n",
       "        (proj_drop): Dropout(p=0.0, inplace=False)\n",
       "      )\n",
       "      (ls1): Identity()\n",
       "      (drop_path1): Identity()\n",
       "      (norm2): LayerNorm((768,), eps=1e-06, elementwise_affine=True)\n",
       "      (mlp): Mlp(\n",
       "        (fc1): Linear(in_features=768, out_features=3072, bias=True)\n",
       "        (act): GELU()\n",
       "        (drop1): Dropout(p=0.0, inplace=False)\n",
       "        (fc2): Linear(in_features=3072, out_features=768, bias=True)\n",
       "        (drop2): Dropout(p=0.0, inplace=False)\n",
       "      )\n",
       "      (ls2): Identity()\n",
       "      (drop_path2): Identity()\n",
       "    )\n",
       "    (3): Block(\n",
       "      (norm1): LayerNorm((768,), eps=1e-06, elementwise_affine=True)\n",
       "      (attn): Attention(\n",
       "        (qkv): Linear(in_features=768, out_features=2304, bias=True)\n",
       "        (attn_drop): Dropout(p=0.0, inplace=False)\n",
       "        (proj): Linear(in_features=768, out_features=768, bias=True)\n",
       "        (proj_drop): Dropout(p=0.0, inplace=False)\n",
       "      )\n",
       "      (ls1): Identity()\n",
       "      (drop_path1): Identity()\n",
       "      (norm2): LayerNorm((768,), eps=1e-06, elementwise_affine=True)\n",
       "      (mlp): Mlp(\n",
       "        (fc1): Linear(in_features=768, out_features=3072, bias=True)\n",
       "        (act): GELU()\n",
       "        (drop1): Dropout(p=0.0, inplace=False)\n",
       "        (fc2): Linear(in_features=3072, out_features=768, bias=True)\n",
       "        (drop2): Dropout(p=0.0, inplace=False)\n",
       "      )\n",
       "      (ls2): Identity()\n",
       "      (drop_path2): Identity()\n",
       "    )\n",
       "    (4): Block(\n",
       "      (norm1): LayerNorm((768,), eps=1e-06, elementwise_affine=True)\n",
       "      (attn): Attention(\n",
       "        (qkv): Linear(in_features=768, out_features=2304, bias=True)\n",
       "        (attn_drop): Dropout(p=0.0, inplace=False)\n",
       "        (proj): Linear(in_features=768, out_features=768, bias=True)\n",
       "        (proj_drop): Dropout(p=0.0, inplace=False)\n",
       "      )\n",
       "      (ls1): Identity()\n",
       "      (drop_path1): Identity()\n",
       "      (norm2): LayerNorm((768,), eps=1e-06, elementwise_affine=True)\n",
       "      (mlp): Mlp(\n",
       "        (fc1): Linear(in_features=768, out_features=3072, bias=True)\n",
       "        (act): GELU()\n",
       "        (drop1): Dropout(p=0.0, inplace=False)\n",
       "        (fc2): Linear(in_features=3072, out_features=768, bias=True)\n",
       "        (drop2): Dropout(p=0.0, inplace=False)\n",
       "      )\n",
       "      (ls2): Identity()\n",
       "      (drop_path2): Identity()\n",
       "    )\n",
       "    (5): Block(\n",
       "      (norm1): LayerNorm((768,), eps=1e-06, elementwise_affine=True)\n",
       "      (attn): Attention(\n",
       "        (qkv): Linear(in_features=768, out_features=2304, bias=True)\n",
       "        (attn_drop): Dropout(p=0.0, inplace=False)\n",
       "        (proj): Linear(in_features=768, out_features=768, bias=True)\n",
       "        (proj_drop): Dropout(p=0.0, inplace=False)\n",
       "      )\n",
       "      (ls1): Identity()\n",
       "      (drop_path1): Identity()\n",
       "      (norm2): LayerNorm((768,), eps=1e-06, elementwise_affine=True)\n",
       "      (mlp): Mlp(\n",
       "        (fc1): Linear(in_features=768, out_features=3072, bias=True)\n",
       "        (act): GELU()\n",
       "        (drop1): Dropout(p=0.0, inplace=False)\n",
       "        (fc2): Linear(in_features=3072, out_features=768, bias=True)\n",
       "        (drop2): Dropout(p=0.0, inplace=False)\n",
       "      )\n",
       "      (ls2): Identity()\n",
       "      (drop_path2): Identity()\n",
       "    )\n",
       "    (6): Block(\n",
       "      (norm1): LayerNorm((768,), eps=1e-06, elementwise_affine=True)\n",
       "      (attn): Attention(\n",
       "        (qkv): Linear(in_features=768, out_features=2304, bias=True)\n",
       "        (attn_drop): Dropout(p=0.0, inplace=False)\n",
       "        (proj): Linear(in_features=768, out_features=768, bias=True)\n",
       "        (proj_drop): Dropout(p=0.0, inplace=False)\n",
       "      )\n",
       "      (ls1): Identity()\n",
       "      (drop_path1): Identity()\n",
       "      (norm2): LayerNorm((768,), eps=1e-06, elementwise_affine=True)\n",
       "      (mlp): Mlp(\n",
       "        (fc1): Linear(in_features=768, out_features=3072, bias=True)\n",
       "        (act): GELU()\n",
       "        (drop1): Dropout(p=0.0, inplace=False)\n",
       "        (fc2): Linear(in_features=3072, out_features=768, bias=True)\n",
       "        (drop2): Dropout(p=0.0, inplace=False)\n",
       "      )\n",
       "      (ls2): Identity()\n",
       "      (drop_path2): Identity()\n",
       "    )\n",
       "    (7): Block(\n",
       "      (norm1): LayerNorm((768,), eps=1e-06, elementwise_affine=True)\n",
       "      (attn): Attention(\n",
       "        (qkv): Linear(in_features=768, out_features=2304, bias=True)\n",
       "        (attn_drop): Dropout(p=0.0, inplace=False)\n",
       "        (proj): Linear(in_features=768, out_features=768, bias=True)\n",
       "        (proj_drop): Dropout(p=0.0, inplace=False)\n",
       "      )\n",
       "      (ls1): Identity()\n",
       "      (drop_path1): Identity()\n",
       "      (norm2): LayerNorm((768,), eps=1e-06, elementwise_affine=True)\n",
       "      (mlp): Mlp(\n",
       "        (fc1): Linear(in_features=768, out_features=3072, bias=True)\n",
       "        (act): GELU()\n",
       "        (drop1): Dropout(p=0.0, inplace=False)\n",
       "        (fc2): Linear(in_features=3072, out_features=768, bias=True)\n",
       "        (drop2): Dropout(p=0.0, inplace=False)\n",
       "      )\n",
       "      (ls2): Identity()\n",
       "      (drop_path2): Identity()\n",
       "    )\n",
       "    (8): Block(\n",
       "      (norm1): LayerNorm((768,), eps=1e-06, elementwise_affine=True)\n",
       "      (attn): Attention(\n",
       "        (qkv): Linear(in_features=768, out_features=2304, bias=True)\n",
       "        (attn_drop): Dropout(p=0.0, inplace=False)\n",
       "        (proj): Linear(in_features=768, out_features=768, bias=True)\n",
       "        (proj_drop): Dropout(p=0.0, inplace=False)\n",
       "      )\n",
       "      (ls1): Identity()\n",
       "      (drop_path1): Identity()\n",
       "      (norm2): LayerNorm((768,), eps=1e-06, elementwise_affine=True)\n",
       "      (mlp): Mlp(\n",
       "        (fc1): Linear(in_features=768, out_features=3072, bias=True)\n",
       "        (act): GELU()\n",
       "        (drop1): Dropout(p=0.0, inplace=False)\n",
       "        (fc2): Linear(in_features=3072, out_features=768, bias=True)\n",
       "        (drop2): Dropout(p=0.0, inplace=False)\n",
       "      )\n",
       "      (ls2): Identity()\n",
       "      (drop_path2): Identity()\n",
       "    )\n",
       "    (9): Block(\n",
       "      (norm1): LayerNorm((768,), eps=1e-06, elementwise_affine=True)\n",
       "      (attn): Attention(\n",
       "        (qkv): Linear(in_features=768, out_features=2304, bias=True)\n",
       "        (attn_drop): Dropout(p=0.0, inplace=False)\n",
       "        (proj): Linear(in_features=768, out_features=768, bias=True)\n",
       "        (proj_drop): Dropout(p=0.0, inplace=False)\n",
       "      )\n",
       "      (ls1): Identity()\n",
       "      (drop_path1): Identity()\n",
       "      (norm2): LayerNorm((768,), eps=1e-06, elementwise_affine=True)\n",
       "      (mlp): Mlp(\n",
       "        (fc1): Linear(in_features=768, out_features=3072, bias=True)\n",
       "        (act): GELU()\n",
       "        (drop1): Dropout(p=0.0, inplace=False)\n",
       "        (fc2): Linear(in_features=3072, out_features=768, bias=True)\n",
       "        (drop2): Dropout(p=0.0, inplace=False)\n",
       "      )\n",
       "      (ls2): Identity()\n",
       "      (drop_path2): Identity()\n",
       "    )\n",
       "    (10): Block(\n",
       "      (norm1): LayerNorm((768,), eps=1e-06, elementwise_affine=True)\n",
       "      (attn): Attention(\n",
       "        (qkv): Linear(in_features=768, out_features=2304, bias=True)\n",
       "        (attn_drop): Dropout(p=0.0, inplace=False)\n",
       "        (proj): Linear(in_features=768, out_features=768, bias=True)\n",
       "        (proj_drop): Dropout(p=0.0, inplace=False)\n",
       "      )\n",
       "      (ls1): Identity()\n",
       "      (drop_path1): Identity()\n",
       "      (norm2): LayerNorm((768,), eps=1e-06, elementwise_affine=True)\n",
       "      (mlp): Mlp(\n",
       "        (fc1): Linear(in_features=768, out_features=3072, bias=True)\n",
       "        (act): GELU()\n",
       "        (drop1): Dropout(p=0.0, inplace=False)\n",
       "        (fc2): Linear(in_features=3072, out_features=768, bias=True)\n",
       "        (drop2): Dropout(p=0.0, inplace=False)\n",
       "      )\n",
       "      (ls2): Identity()\n",
       "      (drop_path2): Identity()\n",
       "    )\n",
       "    (11): Block(\n",
       "      (norm1): LayerNorm((768,), eps=1e-06, elementwise_affine=True)\n",
       "      (attn): Attention(\n",
       "        (qkv): Linear(in_features=768, out_features=2304, bias=True)\n",
       "        (attn_drop): Dropout(p=0.0, inplace=False)\n",
       "        (proj): Linear(in_features=768, out_features=768, bias=True)\n",
       "        (proj_drop): Dropout(p=0.0, inplace=False)\n",
       "      )\n",
       "      (ls1): Identity()\n",
       "      (drop_path1): Identity()\n",
       "      (norm2): LayerNorm((768,), eps=1e-06, elementwise_affine=True)\n",
       "      (mlp): Mlp(\n",
       "        (fc1): Linear(in_features=768, out_features=3072, bias=True)\n",
       "        (act): GELU()\n",
       "        (drop1): Dropout(p=0.0, inplace=False)\n",
       "        (fc2): Linear(in_features=3072, out_features=768, bias=True)\n",
       "        (drop2): Dropout(p=0.0, inplace=False)\n",
       "      )\n",
       "      (ls2): Identity()\n",
       "      (drop_path2): Identity()\n",
       "    )\n",
       "  )\n",
       "  (norm): LayerNorm((768,), eps=1e-06, elementwise_affine=True)\n",
       "  (pre_logits): Identity()\n",
       "  (fc_norm): Identity()\n",
       "  (head): Identity()\n",
       ")"
      ]
     },
     "execution_count": 3,
     "metadata": {},
     "output_type": "execute_result"
    }
   ],
   "source": [
    "feature_extractor = torch.load('vit_fine_tune_style.pt')\n",
    "feature_extractor.to(device)\n",
    "feature_extractor.reset_classifier(num_classes = 0)\n",
    "feature_extractor"
   ]
  },
  {
   "cell_type": "markdown",
   "id": "8128aa52",
   "metadata": {},
   "source": [
    "**REPLACE HERE YOUR IMAGE** (here I make a random choice)"
   ]
  },
  {
   "cell_type": "code",
   "execution_count": 4,
   "id": "167e40de",
   "metadata": {},
   "outputs": [
    {
     "data": {
      "text/plain": [
       "'images-resized/jan-matejko_sigismund-augustus.jpg'"
      ]
     },
     "execution_count": 4,
     "metadata": {},
     "output_type": "execute_result"
    }
   ],
   "source": [
    "image_path = fr\"images-resized/{random.choice(os.listdir('images-resized'))}\"\n",
    "image_path"
   ]
  },
  {
   "cell_type": "code",
   "execution_count": 5,
   "id": "e98c8a33",
   "metadata": {},
   "outputs": [
    {
     "data": {
      "text/plain": [
       "<matplotlib.image.AxesImage at 0x29b8501c460>"
      ]
     },
     "execution_count": 5,
     "metadata": {},
     "output_type": "execute_result"
    },
    {
     "data": {
      "image/png": "[encoded data removed]",
      "text/plain": [
       "<Figure size 432x288 with 1 Axes>"
      ]
     },
     "metadata": {
      "needs_background": "light"
     },
     "output_type": "display_data"
    }
   ],
   "source": [
    "plt.imshow(Image.open(image_path))"
   ]
  },
  {
   "cell_type": "code",
   "execution_count": 6,
   "id": "62e1f103",
   "metadata": {},
   "outputs": [],
   "source": [
    "def get_image(img_path, transform):\n",
    "    image = Image.open(img_path)\n",
    "    if(image.mode != 'RGB'):\n",
    "        image = image.convert('RGB')\n",
    "    tensor_image = transform(image)\n",
    "    return tensor_image"
   ]
  },
  {
   "cell_type": "code",
   "execution_count": 7,
   "id": "444c20a3",
   "metadata": {},
   "outputs": [],
   "source": [
    "data_transforms = transforms.Compose([\n",
    "        transforms.Resize((224, 224)),\n",
    "        transforms.CenterCrop(224),\n",
    "        transforms.ToTensor(),\n",
    "        transforms.Normalize((0.5, 0.5, 0.5), (0.5, 0.5, 0.5)),\n",
    "])"
   ]
  },
  {
   "cell_type": "code",
   "execution_count": 8,
   "id": "b3db90ac",
   "metadata": {},
   "outputs": [],
   "source": [
    "#getting the image as a tensor\n",
    "tensor_image = get_image(image_path, data_transforms)"
   ]
  },
  {
   "cell_type": "markdown",
   "id": "1fc9faf1",
   "metadata": {},
   "source": [
    "**EXTRACTING VISUAL FEATURES USING THE VISUAL TRANSFORMER**"
   ]
  },
  {
   "cell_type": "code",
   "execution_count": 9,
   "id": "6b90ce63",
   "metadata": {},
   "outputs": [],
   "source": [
    "visual_features = feature_extractor(tensor_image.reshape((1, *tuple(tensor_image.shape), )).to(device))"
   ]
  },
  {
   "cell_type": "markdown",
   "id": "ed300b62",
   "metadata": {},
   "source": [
    "Since the model requires visual feature vector 128 dimensional, we have used a PCA linear transformation. The instance used has been tuned for the entire dataset."
   ]
  },
  {
   "cell_type": "code",
   "execution_count": 10,
   "id": "42b880e9",
   "metadata": {},
   "outputs": [],
   "source": [
    "with open('pca.pk','rb') as pickle_file:\n",
    "    pca = pickle.load(pickle_file)"
   ]
  },
  {
   "cell_type": "code",
   "execution_count": 11,
   "id": "bb6aeee6",
   "metadata": {},
   "outputs": [],
   "source": [
    "visual_features = pca.transform(visual_features.cpu().numpy())\n",
    "visual_features = torch.from_numpy(visual_features).to(device)"
   ]
  },
  {
   "cell_type": "markdown",
   "id": "3c71d050",
   "metadata": {},
   "source": [
    "**LOADING THE MODEL THAT IS ABLE TO PREDICT GENRE**"
   ]
  },
  {
   "cell_type": "code",
   "execution_count": 12,
   "id": "3ac62998",
   "metadata": {},
   "outputs": [
    {
     "data": {
      "text/plain": [
       "ModelClassification(\n",
       "  (encoder): MultiGNNEncoder(\n",
       "    (activation): Tanh()\n",
       "    (encoders): ModuleDict(\n",
       "      (0): HeteroConv(num_relations=1)\n",
       "    )\n",
       "  )\n",
       "  (decoder): Head(\n",
       "    (head): Sequential(\n",
       "      (0): Linear(in_features=2432, out_features=1216, bias=True)\n",
       "      (1): LeakyReLU(negative_slope=0.1, inplace=True)\n",
       "      (2): Dropout(p=0.25, inplace=False)\n",
       "      (3): Linear(in_features=1216, out_features=608, bias=True)\n",
       "      (4): LeakyReLU(negative_slope=0.1, inplace=True)\n",
       "      (5): Dropout(p=0.25, inplace=False)\n",
       "      (6): Linear(in_features=608, out_features=304, bias=True)\n",
       "      (7): LeakyReLU(negative_slope=0.1, inplace=True)\n",
       "      (8): Dropout(p=0.25, inplace=False)\n",
       "      (9): Linear(in_features=304, out_features=152, bias=True)\n",
       "      (10): LeakyReLU(negative_slope=0.1, inplace=True)\n",
       "      (11): Dropout(p=0.25, inplace=False)\n",
       "      (12): Linear(in_features=152, out_features=18, bias=True)\n",
       "    )\n",
       "  )\n",
       ")"
      ]
     },
     "execution_count": 12,
     "metadata": {},
     "output_type": "execute_result"
    }
   ],
   "source": [
    "model = torch.load('play_model.pt')\n",
    "model.to(device)"
   ]
  },
  {
   "cell_type": "markdown",
   "id": "7e518b68",
   "metadata": {},
   "source": [
    "**LOADING THE GRAPH (REMEMBER THAT THE GRAPH BECOMES AN INPUT IN THIS TYPE OF MODEL)**"
   ]
  },
  {
   "cell_type": "code",
   "execution_count": 13,
   "id": "eb9a462a",
   "metadata": {},
   "outputs": [
    {
     "data": {
      "text/plain": [
       "HeteroData(\n",
       "  \u001b[1martwork\u001b[0m={ x=[116475, 128] },\n",
       "  \u001b[1martist\u001b[0m={ x=[2501, 1] },\n",
       "  \u001b[1mgallery\u001b[0m={ x=[1099, 1] },\n",
       "  \u001b[1mcity\u001b[0m={ x=[596, 1] },\n",
       "  \u001b[1mcountry\u001b[0m={ x=[58, 1] },\n",
       "  \u001b[1mstyle\u001b[0m={ x=[32, 1] },\n",
       "  \u001b[1mperiod\u001b[0m={ x=[186, 1] },\n",
       "  \u001b[1mgenre\u001b[0m={ x=[18, 1] },\n",
       "  \u001b[1mserie\u001b[0m={ x=[823, 1] },\n",
       "  \u001b[1mtag\u001b[0m={ x=[5424, 1] },\n",
       "  \u001b[1mmedia\u001b[0m={ x=[167, 1] },\n",
       "  \u001b[1msubject\u001b[0m={ x=[6985, 1] },\n",
       "  \u001b[1mtraining_node\u001b[0m={ x=[268, 1] },\n",
       "  \u001b[1mfield\u001b[0m={ x=[54, 1] },\n",
       "  \u001b[1mmovement\u001b[0m={ x=[243, 1] },\n",
       "  \u001b[1mpeople\u001b[0m={ x=[109, 1] },\n",
       "  \u001b[1memotion\u001b[0m={ x=[9, 1] },\n",
       "  \u001b[1m(artist, belongstofield, field)\u001b[0m={ edge_index=[2, 987] },\n",
       "  \u001b[1m(artist, belongstomovement, movement)\u001b[0m={ edge_index=[2, 1056] },\n",
       "  \u001b[1m(artist, haspatron, people)\u001b[0m={ edge_index=[2, 124] },\n",
       "  \u001b[1m(artist, hassubject, subject)\u001b[0m={ edge_index=[2, 21054] },\n",
       "  \u001b[1m(artist, relatedtoschool, training_node)\u001b[0m={ edge_index=[2, 498] },\n",
       "  \u001b[1m(artist, trainedby, artist)\u001b[0m={ edge_index=[2, 94] },\n",
       "  \u001b[1m(artwork, about, tag)\u001b[0m={ edge_index=[2, 241203] },\n",
       "  \u001b[1m(artwork, createdby, artist)\u001b[0m={ edge_index=[2, 81532] },\n",
       "  \u001b[1m(artwork, elicit, emotion)\u001b[0m={ edge_index=[2, 45649] },\n",
       "  \u001b[1m(artwork, hasgenre, genre)\u001b[0m={\n",
       "    edge_index=[2, 81532],\n",
       "    edge_label=[209664],\n",
       "    edge_label_index=[2, 209664]\n",
       "  },\n",
       "  \u001b[1m(artwork, hasperiod, period)\u001b[0m={ edge_index=[2, 4001] },\n",
       "  \u001b[1m(artwork, hasstyle, style)\u001b[0m={ edge_index=[2, 81532] },\n",
       "  \u001b[1m(artwork, locatedin, city)\u001b[0m={ edge_index=[2, 13699] },\n",
       "  \u001b[1m(artwork, locatedin, country)\u001b[0m={ edge_index=[2, 13670] },\n",
       "  \u001b[1m(artwork, locatedin, gallery)\u001b[0m={ edge_index=[2, 13677] },\n",
       "  \u001b[1m(artwork, madeof, media)\u001b[0m={ edge_index=[2, 58614] },\n",
       "  \u001b[1m(artwork, partof, serie)\u001b[0m={ edge_index=[2, 5820] },\n",
       "  \u001b[1m(city, incountry, country)\u001b[0m={ edge_index=[2, 608] },\n",
       "  \u001b[1m(gallery, incity, city)\u001b[0m={ edge_index=[2, 1109] },\n",
       "  \u001b[1m(gallery, incountry, country)\u001b[0m={ edge_index=[2, 1105] },\n",
       "  \u001b[1m(field, rev_belongstofield, artist)\u001b[0m={ edge_index=[2, 987] },\n",
       "  \u001b[1m(movement, rev_belongstomovement, artist)\u001b[0m={ edge_index=[2, 1056] },\n",
       "  \u001b[1m(people, rev_haspatron, artist)\u001b[0m={ edge_index=[2, 124] },\n",
       "  \u001b[1m(subject, rev_hassubject, artist)\u001b[0m={ edge_index=[2, 21054] },\n",
       "  \u001b[1m(training_node, rev_relatedtoschool, artist)\u001b[0m={ edge_index=[2, 498] },\n",
       "  \u001b[1m(tag, rev_about, artwork)\u001b[0m={ edge_index=[2, 241203] },\n",
       "  \u001b[1m(artist, rev_createdby, artwork)\u001b[0m={ edge_index=[2, 81532] },\n",
       "  \u001b[1m(emotion, rev_elicit, artwork)\u001b[0m={ edge_index=[2, 45649] },\n",
       "  \u001b[1m(period, rev_hasperiod, artwork)\u001b[0m={ edge_index=[2, 4001] },\n",
       "  \u001b[1m(style, rev_hasstyle, artwork)\u001b[0m={ edge_index=[2, 81532] },\n",
       "  \u001b[1m(city, rev_locatedin, artwork)\u001b[0m={ edge_index=[2, 13699] },\n",
       "  \u001b[1m(country, rev_locatedin, artwork)\u001b[0m={ edge_index=[2, 13670] },\n",
       "  \u001b[1m(gallery, rev_locatedin, artwork)\u001b[0m={ edge_index=[2, 13677] },\n",
       "  \u001b[1m(media, rev_madeof, artwork)\u001b[0m={ edge_index=[2, 58614] },\n",
       "  \u001b[1m(serie, rev_partof, artwork)\u001b[0m={ edge_index=[2, 5820] },\n",
       "  \u001b[1m(country, rev_incountry, city)\u001b[0m={ edge_index=[2, 608] },\n",
       "  \u001b[1m(city, rev_incity, gallery)\u001b[0m={ edge_index=[2, 1109] },\n",
       "  \u001b[1m(country, rev_incountry, gallery)\u001b[0m={ edge_index=[2, 1105] },\n",
       "  \u001b[1m(genre, to, artwork)\u001b[0m={}\n",
       ")"
      ]
     },
     "execution_count": 13,
     "metadata": {},
     "output_type": "execute_result"
    }
   ],
   "source": [
    "graph = torch.load('dataset_full_conf/test_data_genre_vit_fine-tuning.pt')\n",
    "graph.to(device)"
   ]
  },
  {
   "cell_type": "code",
   "execution_count": 14,
   "id": "5b65eb63",
   "metadata": {},
   "outputs": [],
   "source": [
    "predicted_vector = model(graph.x_dict, graph.edge_index_dict, visual_features)"
   ]
  },
  {
   "cell_type": "code",
   "execution_count": 15,
   "id": "4aec53b9",
   "metadata": {},
   "outputs": [
    {
     "data": {
      "text/plain": [
       "tensor([[1.4176e-05, 4.1672e-06, 2.2152e-06, 1.0466e-01, 1.4381e-04, 7.2605e-05,\n",
       "         5.2601e-07, 6.6785e-05, 1.8536e-05, 8.9356e-01, 8.1027e-07, 8.0403e-06,\n",
       "         8.3655e-04, 1.3583e-04, 2.3925e-04, 1.2147e-05, 2.1033e-04, 1.6594e-05]],\n",
       "       device='cuda:0', grad_fn=<SoftmaxBackward0>)"
      ]
     },
     "execution_count": 15,
     "metadata": {},
     "output_type": "execute_result"
    }
   ],
   "source": [
    "softmax = nn.Softmax(dim = 1)\n",
    "predicted_vector = softmax(predicted_vector)\n",
    "predicted_vector"
   ]
  },
  {
   "cell_type": "code",
   "execution_count": 16,
   "id": "6f208578",
   "metadata": {},
   "outputs": [
    {
     "data": {
      "text/plain": [
       "9"
      ]
     },
     "execution_count": 16,
     "metadata": {},
     "output_type": "execute_result"
    }
   ],
   "source": [
    "predicted_genre = torch.max(predicted_vector, dim = 1)[1].item()\n",
    "predicted_genre"
   ]
  },
  {
   "cell_type": "markdown",
   "id": "e3e2c15a",
   "metadata": {},
   "source": [
    "**SHOWING WHAT GENRE HAS BEEN PREDICTED**"
   ]
  },
  {
   "cell_type": "code",
   "execution_count": 17,
   "id": "79ad3d9b",
   "metadata": {},
   "outputs": [
    {
     "data": {
      "text/html": [
       "<div>\n",
       "<style scoped>\n",
       "    .dataframe tbody tr th:only-of-type {\n",
       "        vertical-align: middle;\n",
       "    }\n",
       "\n",
       "    .dataframe tbody tr th {\n",
       "        vertical-align: top;\n",
       "    }\n",
       "\n",
       "    .dataframe thead th {\n",
       "        text-align: right;\n",
       "    }\n",
       "</style>\n",
       "<table border=\"1\" class=\"dataframe\">\n",
       "  <thead>\n",
       "    <tr style=\"text-align: right;\">\n",
       "      <th></th>\n",
       "      <th>idx</th>\n",
       "      <th>name</th>\n",
       "    </tr>\n",
       "  </thead>\n",
       "  <tbody>\n",
       "    <tr>\n",
       "      <th>0</th>\n",
       "      <td>0</td>\n",
       "      <td>nude painting (nu)</td>\n",
       "    </tr>\n",
       "    <tr>\n",
       "      <th>1</th>\n",
       "      <td>1</td>\n",
       "      <td>marina</td>\n",
       "    </tr>\n",
       "    <tr>\n",
       "      <th>2</th>\n",
       "      <td>2</td>\n",
       "      <td>animal painting</td>\n",
       "    </tr>\n",
       "    <tr>\n",
       "      <th>3</th>\n",
       "      <td>3</td>\n",
       "      <td>self-portrait</td>\n",
       "    </tr>\n",
       "    <tr>\n",
       "      <th>4</th>\n",
       "      <td>4</td>\n",
       "      <td>genre painting</td>\n",
       "    </tr>\n",
       "    <tr>\n",
       "      <th>5</th>\n",
       "      <td>5</td>\n",
       "      <td>symbolic painting</td>\n",
       "    </tr>\n",
       "    <tr>\n",
       "      <th>6</th>\n",
       "      <td>6</td>\n",
       "      <td>abstract</td>\n",
       "    </tr>\n",
       "    <tr>\n",
       "      <th>7</th>\n",
       "      <td>7</td>\n",
       "      <td>figurative</td>\n",
       "    </tr>\n",
       "    <tr>\n",
       "      <th>8</th>\n",
       "      <td>8</td>\n",
       "      <td>landscape</td>\n",
       "    </tr>\n",
       "    <tr>\n",
       "      <th>9</th>\n",
       "      <td>9</td>\n",
       "      <td>portrait</td>\n",
       "    </tr>\n",
       "    <tr>\n",
       "      <th>10</th>\n",
       "      <td>10</td>\n",
       "      <td>flower painting</td>\n",
       "    </tr>\n",
       "    <tr>\n",
       "      <th>11</th>\n",
       "      <td>11</td>\n",
       "      <td>design</td>\n",
       "    </tr>\n",
       "    <tr>\n",
       "      <th>12</th>\n",
       "      <td>12</td>\n",
       "      <td>religious painting</td>\n",
       "    </tr>\n",
       "    <tr>\n",
       "      <th>13</th>\n",
       "      <td>13</td>\n",
       "      <td>mythological painting</td>\n",
       "    </tr>\n",
       "    <tr>\n",
       "      <th>14</th>\n",
       "      <td>14</td>\n",
       "      <td>sketch and study</td>\n",
       "    </tr>\n",
       "    <tr>\n",
       "      <th>15</th>\n",
       "      <td>15</td>\n",
       "      <td>still life</td>\n",
       "    </tr>\n",
       "    <tr>\n",
       "      <th>16</th>\n",
       "      <td>16</td>\n",
       "      <td>illustration</td>\n",
       "    </tr>\n",
       "    <tr>\n",
       "      <th>17</th>\n",
       "      <td>17</td>\n",
       "      <td>cityscape</td>\n",
       "    </tr>\n",
       "  </tbody>\n",
       "</table>\n",
       "</div>"
      ],
      "text/plain": [
       "    idx                   name\n",
       "0     0     nude painting (nu)\n",
       "1     1                 marina\n",
       "2     2        animal painting\n",
       "3     3          self-portrait\n",
       "4     4         genre painting\n",
       "5     5      symbolic painting\n",
       "6     6               abstract\n",
       "7     7             figurative\n",
       "8     8              landscape\n",
       "9     9               portrait\n",
       "10   10        flower painting\n",
       "11   11                 design\n",
       "12   12     religious painting\n",
       "13   13  mythological painting\n",
       "14   14       sketch and study\n",
       "15   15             still life\n",
       "16   16           illustration\n",
       "17   17              cityscape"
      ]
     },
     "execution_count": 17,
     "metadata": {},
     "output_type": "execute_result"
    }
   ],
   "source": [
    "genre2name = pd.read_csv(r'artgraph2bestemotions/mapping/genre_entidx2name.csv', header = None, names = ['idx', 'name'])\n",
    "genre2name"
   ]
  },
  {
   "cell_type": "code",
   "execution_count": 19,
   "id": "d6ec0f2e",
   "metadata": {},
   "outputs": [
    {
     "data": {
      "text/plain": [
       "'The precited genre is PORTRAIT'"
      ]
     },
     "execution_count": 19,
     "metadata": {},
     "output_type": "execute_result"
    }
   ],
   "source": [
    "f'The precited genre is {genre2name.loc[predicted_genre][\"name\"].upper()}'"
   ]
  },
  {
   "cell_type": "code",
   "execution_count": null,
   "id": "c3517c8d",
   "metadata": {},
   "outputs": [],
   "source": []
  }
 ],
 "metadata": {
  "kernelspec": {
   "display_name": "Python [conda env:tesi]",
   "language": "python",
   "name": "conda-env-tesi-py"
  },
  "language_info": {
   "codemirror_mode": {
    "name": "ipython",
    "version": 3
   },
   "file_extension": ".py",
   "mimetype": "text/x-python",
   "name": "python",
   "nbconvert_exporter": "python",
   "pygments_lexer": "ipython3",
   "version": "3.9.7"
  }
 },
 "nbformat": 4,
 "nbformat_minor": 5
}
